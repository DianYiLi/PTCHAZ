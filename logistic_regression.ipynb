{
 "cells": [
  {
   "cell_type": "code",
   "execution_count": 1,
   "id": "4a972774-1dd1-4e38-86f1-8ff61c36e847",
   "metadata": {},
   "outputs": [
    {
     "name": "stdout",
     "output_type": "stream",
     "text": [
      "Best C: [0.04641589]\n",
      "Train Score: 0.9757313658675772\n",
      "Test Score: 0.9741459221051058\n",
      "Selected l1_ratio: [0]\n",
      "Selected Cs: [1.00000000e-04 7.74263683e-04 5.99484250e-03 4.64158883e-02\n",
      " 3.59381366e-01 2.78255940e+00 2.15443469e+01 1.66810054e+02\n",
      " 1.29154967e+03 1.00000000e+04]\n",
      "Intercept: [-2.70944337]\n",
      "Coefficients: [[ 2.2511956  -1.4001523   0.82228464 -0.15269258  0.84556124 -0.50513599\n",
      "   0.22858954 -0.20680489 -0.11013684 -0.32325854]]\n"
     ]
    }
   ],
   "source": [
    "import numpy as np\n",
    "import xarray as xr\n",
    "from sklearn.linear_model import LogisticRegressionCV\n",
    "from sklearn.model_selection import train_test_split\n",
    "from sklearn.preprocessing import StandardScaler\n",
    "\n",
    "\n",
    "# dataset = xr.open_dataset('pre_logistic_CHAZyear_wind.nc')\n",
    "dataset = xr.open_dataset('pre_logistic_v1_1981-2019.nc')\n",
    "\n",
    "\n",
    "X_train = dataset['x_train'].values \n",
    "y_train = dataset['y_train'].values \n",
    "X_test = dataset['x_test'].values  \n",
    "y_test = dataset['y_test'].values  \n",
    "\n",
    "# X = X.reshape(X.shape[0], -1)  \n",
    "X_train = X_train.T\n",
    "X_test = X_test.T\n",
    "\n",
    "\n",
    "# X_train, X_test, y_train, y_test = train_test_split(X, y, test_size=0.2,\n",
    "#                                                    random_state=52)\n",
    "\n",
    "\n",
    "scaler = StandardScaler()\n",
    "X_train_scaled = scaler.fit_transform(X_train)\n",
    "X_test_scaled = scaler.transform(X_test)\n",
    "\n",
    "\n",
    "# log_reg_cv = LogisticRegressionCV(cv=10,\n",
    "#                                  l1_ratios=[0, 0.1, 0.2, 0.3, 0.4, 0.5, 0.6, 0.7, 0.8, 0.9, 1],\n",
    "#                                  penalty='elasticnet',  \n",
    "#                                  scoring='roc_auc',\n",
    "#                                  solver='saga', random_state=52,\n",
    "#                                  class_weight='balanced', max_iter=1000)\n",
    "log_reg_cv = LogisticRegressionCV(cv=10,\n",
    "                                  l1_ratios=[0, 0.1, 0.2, 0.3, 0.4, 0.5, 0.6, 0.7, 0.8, 0.9, 1],\n",
    "                                  penalty='elasticnet',  \n",
    "                                  scoring='roc_auc',\n",
    "                                  solver='saga', random_state=52,\n",
    "                                  class_weight='balanced', max_iter=1000)\n",
    "\n",
    "\n",
    "\n",
    "log_reg_cv.fit(X_train_scaled, y_train)\n",
    "\n",
    "\n",
    "print(\"Best C:\", log_reg_cv.C_)\n",
    "\n",
    "\n",
    "print(\"Train Score:\", log_reg_cv.score(X_train_scaled, y_train))\n",
    "print(\"Test Score:\", log_reg_cv.score(X_test_scaled, y_test))\n",
    "\n",
    "\n",
    "print(\"Selected l1_ratio:\", log_reg_cv.l1_ratio_)\n",
    "\n",
    "\n",
    "print(\"Selected Cs:\", log_reg_cv.Cs_)\n",
    "\n",
    "\n",
    "intercept = log_reg_cv.intercept_\n",
    "\n",
    "\n",
    "print(\"Intercept:\", intercept)\n",
    "\n",
    "\n",
    "coefficients = log_reg_cv.coef_\n",
    "\n",
    "\n",
    "print(\"Coefficients:\", coefficients)\n",
    "\n"
   ]
  },
  {
   "cell_type": "code",
   "execution_count": 2,
   "id": "7bfb93a1-d148-4710-96ca-05c15071108e",
   "metadata": {},
   "outputs": [
    {
     "ename": "NameError",
     "evalue": "name 'X' is not defined",
     "output_type": "error",
     "traceback": [
      "\u001b[0;31m---------------------------------------------------------------------------\u001b[0m",
      "\u001b[0;31mNameError\u001b[0m                                 Traceback (most recent call last)",
      "\u001b[0;32m/glade/derecho/scratch/dyli/tmp/ipykernel_37635/1015173397.py\u001b[0m in \u001b[0;36m<module>\u001b[0;34m\u001b[0m\n\u001b[0;32m----> 1\u001b[0;31m \u001b[0mprint\u001b[0m\u001b[0;34m(\u001b[0m\u001b[0;34m\"X shape:\"\u001b[0m\u001b[0;34m,\u001b[0m \u001b[0mX\u001b[0m\u001b[0;34m.\u001b[0m\u001b[0mshape\u001b[0m\u001b[0;34m)\u001b[0m\u001b[0;34m\u001b[0m\u001b[0;34m\u001b[0m\u001b[0m\n\u001b[0m\u001b[1;32m      2\u001b[0m \u001b[0mprint\u001b[0m\u001b[0;34m(\u001b[0m\u001b[0;34m\"Y shape:\"\u001b[0m\u001b[0;34m,\u001b[0m \u001b[0my\u001b[0m\u001b[0;34m.\u001b[0m\u001b[0mshape\u001b[0m\u001b[0;34m)\u001b[0m\u001b[0;34m\u001b[0m\u001b[0;34m\u001b[0m\u001b[0m\n",
      "\u001b[0;31mNameError\u001b[0m: name 'X' is not defined"
     ]
    }
   ],
   "source": [
    "print(\"X shape:\", X.shape)\n",
    "print(\"Y shape:\", y.shape)\n"
   ]
  },
  {
   "cell_type": "code",
   "execution_count": null,
   "id": "26df4c4c-f9d8-45e1-9dd2-7f76e2a49c35",
   "metadata": {},
   "outputs": [],
   "source": []
  },
  {
   "cell_type": "code",
   "execution_count": null,
   "id": "d2c333a2-c374-4ac6-ac9e-c022f176fd26",
   "metadata": {},
   "outputs": [],
   "source": []
  },
  {
   "cell_type": "code",
   "execution_count": null,
   "id": "7fdfa17c-c4b2-4268-a30d-f1ac4b94a428",
   "metadata": {},
   "outputs": [],
   "source": []
  },
  {
   "cell_type": "code",
   "execution_count": null,
   "id": "88362a57-db17-4e58-8f85-c3c971b66051",
   "metadata": {},
   "outputs": [],
   "source": []
  }
 ],
 "metadata": {
  "kernelspec": {
   "display_name": "Python [conda env:anaconda3-py39]",
   "language": "python",
   "name": "conda-env-anaconda3-py39-py"
  },
  "language_info": {
   "codemirror_mode": {
    "name": "ipython",
    "version": 3
   },
   "file_extension": ".py",
   "mimetype": "text/x-python",
   "name": "python",
   "nbconvert_exporter": "python",
   "pygments_lexer": "ipython3",
   "version": "3.9.13"
  }
 },
 "nbformat": 4,
 "nbformat_minor": 5
}
