import numpy as np
import xarray as xr
from sklearn.linear_model import LogisticRegressionCV
from sklearn.model_selection import train_test_split
from sklearn.preprocessing import StandardScaler


# dataset = xr.open_dataset('pre_logistic_CHAZyear_wind.nc')
dataset = xr.open_dataset('pre_logistic_v1_1981-2019.nc')


X_train = dataset['x_train'].values 
y_train = dataset['y_train'].values 
X_test = dataset['x_test'].values  
y_test = dataset['y_test'].values  

# X = X.reshape(X.shape[0], -1)  
X_train = X_train.T
X_test = X_test.T


# X_train, X_test, y_train, y_test = train_test_split(X, y, test_size=0.2,
#                                                    random_state=52)


scaler = StandardScaler()
X_train_scaled = scaler.fit_transform(X_train)
X_test_scaled = scaler.transform(X_test)


# log_reg_cv = LogisticRegressionCV(cv=10,
#                                  l1_ratios=[0, 0.1, 0.2, 0.3, 0.4, 0.5, 0.6, 0.7, 0.8, 0.9, 1],
#                                  penalty='elasticnet',  
#                                  scoring='roc_auc',
#                                  solver='saga', random_state=52,
#                                  class_weight='balanced', max_iter=1000)
log_reg_cv = LogisticRegressionCV(cv=10,
                                  l1_ratios=[0, 0.1, 0.2, 0.3, 0.4, 0.5, 0.6, 0.7, 0.8, 0.9, 1],
                                  penalty='elasticnet',  
                                  scoring='roc_auc',
                                  solver='saga', random_state=52,
                                  class_weight='balanced', max_iter=1000)



log_reg_cv.fit(X_train_scaled, y_train)


print("Best C:", log_reg_cv.C_)


print("Train Score:", log_reg_cv.score(X_train_scaled, y_train))
print("Test Score:", log_reg_cv.score(X_test_scaled, y_test))


print("Selected l1_ratio:", log_reg_cv.l1_ratio_)


print("Selected Cs:", log_reg_cv.Cs_)


intercept = log_reg_cv.intercept_


print("Intercept:", intercept)


coefficients = log_reg_cv.coef_


print("Coefficients:", coefficients)
